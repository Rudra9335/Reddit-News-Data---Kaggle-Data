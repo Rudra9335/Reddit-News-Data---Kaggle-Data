{
 "cells": [
  {
   "cell_type": "markdown",
   "metadata": {},
   "source": [
    "# Topic sentiments and positions\n"
   ]
  },
  {
   "cell_type": "code",
   "execution_count": 18,
   "metadata": {
    "collapsed": false
   },
   "outputs": [],
   "source": [
    "import numpy as np\n",
    "import pandas as pd\n",
    "\n",
    "df = pd.read_csv('/Users/Rudra/Desktop/python/NLP/Reddit Data/reddit_worldnews_start_to_2016-11-22.csv')"
   ]
  },
  {
   "cell_type": "code",
   "execution_count": 19,
   "metadata": {
    "collapsed": false
   },
   "outputs": [
    {
     "data": {
      "text/html": [
       "<div>\n",
       "<table border=\"1\" class=\"dataframe\">\n",
       "  <thead>\n",
       "    <tr style=\"text-align: right;\">\n",
       "      <th></th>\n",
       "      <th>Itime_created</th>\n",
       "      <th>date_created</th>\n",
       "      <th>up_votes</th>\n",
       "      <th>down_votes</th>\n",
       "      <th>title</th>\n",
       "      <th>over_18</th>\n",
       "      <th>author</th>\n",
       "      <th>subreddit</th>\n",
       "    </tr>\n",
       "  </thead>\n",
       "  <tbody>\n",
       "    <tr>\n",
       "      <th>0</th>\n",
       "      <td>1201232046</td>\n",
       "      <td>2008-01-25</td>\n",
       "      <td>3</td>\n",
       "      <td>0</td>\n",
       "      <td>Scores killed in Pakistan clashes</td>\n",
       "      <td>False</td>\n",
       "      <td>polar</td>\n",
       "      <td>worldnews</td>\n",
       "    </tr>\n",
       "    <tr>\n",
       "      <th>1</th>\n",
       "      <td>1201232075</td>\n",
       "      <td>2008-01-25</td>\n",
       "      <td>2</td>\n",
       "      <td>0</td>\n",
       "      <td>Japan resumes refuelling mission</td>\n",
       "      <td>False</td>\n",
       "      <td>polar</td>\n",
       "      <td>worldnews</td>\n",
       "    </tr>\n",
       "    <tr>\n",
       "      <th>2</th>\n",
       "      <td>1201232523</td>\n",
       "      <td>2008-01-25</td>\n",
       "      <td>3</td>\n",
       "      <td>0</td>\n",
       "      <td>US presses Egypt on Gaza border</td>\n",
       "      <td>False</td>\n",
       "      <td>polar</td>\n",
       "      <td>worldnews</td>\n",
       "    </tr>\n",
       "    <tr>\n",
       "      <th>3</th>\n",
       "      <td>1201233290</td>\n",
       "      <td>2008-01-25</td>\n",
       "      <td>1</td>\n",
       "      <td>0</td>\n",
       "      <td>Jump-start economy: Give health care to all</td>\n",
       "      <td>False</td>\n",
       "      <td>fadi420</td>\n",
       "      <td>worldnews</td>\n",
       "    </tr>\n",
       "    <tr>\n",
       "      <th>4</th>\n",
       "      <td>1201274720</td>\n",
       "      <td>2008-01-25</td>\n",
       "      <td>4</td>\n",
       "      <td>0</td>\n",
       "      <td>Council of Europe bashes EU&amp;UN terror blacklist</td>\n",
       "      <td>False</td>\n",
       "      <td>mhermans</td>\n",
       "      <td>worldnews</td>\n",
       "    </tr>\n",
       "  </tbody>\n",
       "</table>\n",
       "</div>"
      ],
      "text/plain": [
       "   Itime_created date_created  up_votes  down_votes  \\\n",
       "0     1201232046   2008-01-25         3           0   \n",
       "1     1201232075   2008-01-25         2           0   \n",
       "2     1201232523   2008-01-25         3           0   \n",
       "3     1201233290   2008-01-25         1           0   \n",
       "4     1201274720   2008-01-25         4           0   \n",
       "\n",
       "                                             title over_18    author  \\\n",
       "0                Scores killed in Pakistan clashes   False     polar   \n",
       "1                 Japan resumes refuelling mission   False     polar   \n",
       "2                  US presses Egypt on Gaza border   False     polar   \n",
       "3     Jump-start economy: Give health care to all    False   fadi420   \n",
       "4  Council of Europe bashes EU&UN terror blacklist   False  mhermans   \n",
       "\n",
       "   subreddit  \n",
       "0  worldnews  \n",
       "1  worldnews  \n",
       "2  worldnews  \n",
       "3  worldnews  \n",
       "4  worldnews  "
      ]
     },
     "execution_count": 19,
     "metadata": {},
     "output_type": "execute_result"
    }
   ],
   "source": [
    "df.head()"
   ]
  },
  {
   "cell_type": "code",
   "execution_count": 20,
   "metadata": {
    "collapsed": true
   },
   "outputs": [],
   "source": [
    "\n",
    "from nltk.corpus import stopwords\n",
    "import string ### this is awesome ! \n",
    "\n",
    "stopwords = set(stopwords.words('english'))\n",
    "#best_titles has only the most up votes news articles ( TOP 10 )\n",
    "best_titles = df.sort_values(by='up_votes', ascending=False)['title'][:10]\n"
   ]
  },
  {
   "cell_type": "code",
   "execution_count": 21,
   "metadata": {
    "collapsed": false
   },
   "outputs": [],
   "source": [
    "from nltk import word_tokenize\n",
    "# removes all the stopwords \n",
    "# NOTE : converted to set and removed everything\n",
    "best_words = set(np.concatenate([word_tokenize(t) for t in best_titles])) - stopwords\n",
    "#convert to lower case\n",
    "best_words = {word.lower() for word in best_words}\n",
    "#remove punctuations and digits\n",
    "best_words = best_words - \n",
    "- set(string.digits)\n",
    "# function to remove float numbers\n",
    "def is_float(s):\n",
    "    try : \n",
    "        float(s)\n",
    "        return True \n",
    "    except ValueError:\n",
    "        return False\n",
    "    \n",
    "# removes all float and \"'\" \n",
    "#best_words = [ word for word in best_words if (not is_float(word) and word != \"'\")]\n",
    "best_words = {word for word in best_words if not is_float(word)}\n",
    "best_words = {word for word in best_words if \"'\" not in word}"
   ]
  },
  {
   "cell_type": "code",
   "execution_count": 22,
   "metadata": {
    "collapsed": false
   },
   "outputs": [
    {
     "data": {
      "text/plain": [
       "fifa                            (nan, 0)\n",
       "managed             (565.482993197, 147)\n",
       "chinese              (16.0238095238, 42)\n",
       "produces             (324.358974359, 78)\n",
       "criminally           (1089.89473684, 19)\n",
       "global             (181.902495647, 3446)\n",
       "celebrities           (333.87037037, 54)\n",
       "month              (187.717708333, 4800)\n",
       "discovered         (328.214105793, 1191)\n",
       "held               (100.907629148, 2923)\n",
       "manages                     (755.44, 25)\n",
       "radio               (173.828442438, 886)\n",
       "seaweed              (1387.45454545, 11)\n",
       "horns                (481.208333333, 72)\n",
       "one-eighth                  (21253.0, 1)\n",
       "contributions        (519.136363636, 44)\n",
       "unto                 (293.686868687, 99)\n",
       "adding              (196.943965517, 232)\n",
       "feeding             (205.651006711, 149)\n",
       "police            (130.932836453, 11807)\n",
       "paris                (208.04516129, 155)\n",
       "smugglers           (151.798245614, 228)\n",
       "location            (221.601542416, 389)\n",
       "tweets                     (200.68, 250)\n",
       "thousands          (174.081347576, 2434)\n",
       "eventually           (356.37398374, 123)\n",
       "beheads             (269.619834711, 121)\n",
       "victims            (126.483381924, 1715)\n",
       "get               (137.210356551, 11471)\n",
       "banned             (371.124213836, 1272)\n",
       "                          ...           \n",
       "flood              (73.7405913978, 1488)\n",
       "politicians         (234.431603774, 848)\n",
       "widespread          (236.330687831, 378)\n",
       "3-d                  (244.692307692, 26)\n",
       "tool                (287.303030303, 264)\n",
       "surfers              (517.275862069, 29)\n",
       "oil                (148.219687301, 6268)\n",
       "plans              (147.340127389, 3140)\n",
       "price              (183.684185149, 2074)\n",
       "diet                 (320.144444444, 90)\n",
       "blood              (151.360759494, 1264)\n",
       "nothing              (198.95661157, 484)\n",
       "suing               (212.405144695, 311)\n",
       "data               (248.106483673, 2113)\n",
       "keep               (138.461926962, 2574)\n",
       "a                (112.687323838, 504506)\n",
       "effective            (371.13963964, 444)\n",
       "management          (115.209580838, 167)\n",
       "corporate           (332.281746032, 252)\n",
       "undercutting         (1652.78571429, 14)\n",
       "websites            (210.732365145, 482)\n",
       "bashing              (411.096774194, 31)\n",
       "broadcasting         (432.028571429, 70)\n",
       "banks              (180.148566464, 1151)\n",
       "professional        (280.424836601, 153)\n",
       "the              (164.332187681, 136167)\n",
       "athletes                    (253.6, 270)\n",
       "original            (310.297368421, 380)\n",
       "researchers         (251.756653992, 526)\n",
       "charged            (115.024103469, 1701)\n",
       "dtype: object"
      ]
     },
     "execution_count": 22,
     "metadata": {},
     "output_type": "execute_result"
    }
   ],
   "source": [
    "#worldnews['down_votes'].value_counts() Counts the type of words and count\n",
    "#print df[df['title'].map(lambda title: 'company' in title)]\n",
    "\n",
    "pd.Series(index=list(best_words), data=[(df[df['title'].map(lambda title: word in title)]['up_votes'].mean(),\n",
    "                                             df[df['title'].map(lambda title: word in title)]['up_votes'].count())\n",
    "                                            for word in list(best_words)])"
   ]
  },
  {
   "cell_type": "code",
   "execution_count": 23,
   "metadata": {
    "collapsed": false,
    "scrolled": true
   },
   "outputs": [],
   "source": [
    "# Tokenizes the words in the title and then adds it as a column in the df\n",
    "\n",
    "\n",
    "words_tokenized = [[(w.lower()) for w in word_tokenize(t.decode('utf-8'))] for t in df['title']]\n"
   ]
  },
  {
   "cell_type": "code",
   "execution_count": 24,
   "metadata": {
    "collapsed": true
   },
   "outputs": [],
   "source": [
    "# adding a column\n",
    "df['tokenized_title'] = words_tokenized\n"
   ]
  },
  {
   "cell_type": "code",
   "execution_count": 25,
   "metadata": {
    "collapsed": false
   },
   "outputs": [],
   "source": [
    "all_words = pd.Series(np.concatenate(words_tokenized)).value_counts()\n"
   ]
  },
  {
   "cell_type": "code",
   "execution_count": 26,
   "metadata": {
    "collapsed": false
   },
   "outputs": [],
   "source": [
    "#get all the words that arent the regular stop words,punctuations, etc\n",
    "all_words = all_words[[word not in stopwords and word not in string.punctuation and\n",
    "                       word not in string.digits and not is_float(word)\n",
    "                       and word!= \"'\" for word in all_words.index]]\n",
    "                        "
   ]
  },
  {
   "cell_type": "code",
   "execution_count": 27,
   "metadata": {
    "collapsed": false
   },
   "outputs": [],
   "source": [
    "%matplotlib inline"
   ]
  },
  {
   "cell_type": "code",
   "execution_count": 28,
   "metadata": {
    "collapsed": true
   },
   "outputs": [],
   "source": [
    "import nltk\n",
    "from nltk.stem.porter import PorterStemmer\n",
    "stemmer = PorterStemmer()\n",
    "\n",
    "# To increase the accuracy of any models that we build let's do one more thing, let's stem our words: \n",
    "# mapping \"says\" and \"saying\" and \"said\" all to \"say\", for example, because they are all really the same \n",
    "# one word in different forms. We'll use the nltk built-in PorterStemmer for this.\n",
    "all_words.index = [stemmer.stem(w) for w in all_words.index]"
   ]
  },
  {
   "cell_type": "code",
   "execution_count": 29,
   "metadata": {
    "collapsed": false
   },
   "outputs": [
    {
     "data": {
      "text/plain": [
       "<matplotlib.axes._subplots.AxesSubplot at 0x122b14390>"
      ]
     },
     "execution_count": 29,
     "metadata": {},
     "output_type": "execute_result"
    },
    {
     "data": {
      "image/png": "[encoded data removed]",
      "text/plain": [
       "<matplotlib.figure.Figure at 0x136d4d690>"
      ]
     },
     "metadata": {},
     "output_type": "display_data"
    }
   ],
   "source": [
    "all_words[:1000].plot()"
   ]
  },
  {
   "cell_type": "code",
   "execution_count": 30,
   "metadata": {
    "collapsed": true
   },
   "outputs": [],
   "source": [
    "all_stems = all_words.groupby(by=all_words.index).sum().sort_values(ascending=False)"
   ]
  },
  {
   "cell_type": "code",
   "execution_count": 31,
   "metadata": {
    "collapsed": false
   },
   "outputs": [
    {
     "data": {
      "text/plain": [
       "Index([u'say', u'kill', u'china', u'us', u'new', u'attack', u'syria',\n",
       "       u'russia', u'world', u'polic'],\n",
       "      dtype='object')"
      ]
     },
     "execution_count": 31,
     "metadata": {},
     "output_type": "execute_result"
    }
   ],
   "source": [
    "all_stems[:10].index"
   ]
  },
  {
   "cell_type": "code",
   "execution_count": 33,
   "metadata": {
    "collapsed": false
   },
   "outputs": [],
   "source": [
    "df['stemmed_title'] = df['tokenized_title'].map(\n",
    "    lambda wl: [stemmer.stem(w) for w in wl]\n",
    ")"
   ]
  },
  {
   "cell_type": "markdown",
   "metadata": {},
   "source": [
    "# Adjustment for Growth\n"
   ]
  },
  {
   "cell_type": "code",
   "execution_count": 36,
   "metadata": {
    "collapsed": false
   },
   "outputs": [
    {
     "name": "stdout",
     "output_type": "stream",
     "text": [
      "date_created\n",
      "2008-01-25    3.0\n",
      "2008-01-28    2.0\n",
      "2008-01-29    3.0\n",
      "2008-01-30    4.0\n",
      "2008-01-31    3.0\n",
      "Name: up_votes, dtype: float64\n"
     ]
    }
   ],
   "source": [
    "date_lookup = df.groupby('date_created')['up_votes'].median()\n"
   ]
  },
  {
   "cell_type": "code",
   "execution_count": 41,
   "metadata": {
    "collapsed": false
   },
   "outputs": [
    {
     "data": {
      "text/plain": [
       "<matplotlib.axes._subplots.AxesSubplot at 0x169ea4810>"
      ]
     },
     "execution_count": 41,
     "metadata": {},
     "output_type": "execute_result"
    },
    {
     "data": {
      "image/png": "[encoded data removed]",
      "text/plain": [
       "<matplotlib.figure.Figure at 0x169ea4910>"
      ]
     },
     "metadata": {},
     "output_type": "display_data"
    }
   ],
   "source": [
    "df.groupby('date_created')['up_votes'].mean().plot()\n",
    "df.groupby('date_created')['up_votes'].median().plot()\n",
    "df.groupby('date_created')['up_votes'].mean().rolling(window=31).mean().plot(color='white')\n",
    "\n",
    "\n",
    "# Need to ask Shiva about this !! "
   ]
  },
  {
   "cell_type": "markdown",
   "metadata": {},
   "source": [
    "# Popular Topics"
   ]
  },
  {
   "cell_type": "code",
   "execution_count": 42,
   "metadata": {
    "collapsed": true
   },
   "outputs": [],
   "source": [
    "from nltk import pos_tag"
   ]
  },
  {
   "cell_type": "code",
   "execution_count": 46,
   "metadata": {
    "collapsed": false
   },
   "outputs": [
    {
     "data": {
      "text/plain": [
       "(u'killed', 'VBN')"
      ]
     },
     "execution_count": 46,
     "metadata": {},
     "output_type": "execute_result"
    }
   ],
   "source": [
    "pos_tag(df['tokenized_title'][0])"
   ]
  },
  {
   "cell_type": "code",
   "execution_count": 53,
   "metadata": {
    "collapsed": false
   },
   "outputs": [],
   "source": [
    "df['pos_title'] = df['tokenized_title'].map(lambda t: [t[1] for t in pos_tag(t)])"
   ]
  },
  {
   "cell_type": "code",
   "execution_count": 54,
   "metadata": {
    "collapsed": false
   },
   "outputs": [
    {
     "data": {
      "text/plain": [
       "0                   [NNS, VBN, IN, NN, NNS]\n",
       "1                        [NN, VBZ, VBG, NN]\n",
       "2                [PRP, VBZ, NN, IN, NN, NN]\n",
       "3           [JJ, NN, :, JJ, NN, NN, TO, DT]\n",
       "4    [NN, IN, NN, NNS, VBP, CC, JJ, NN, NN]\n",
       "Name: pos_title, dtype: object"
      ]
     },
     "execution_count": 54,
     "metadata": {},
     "output_type": "execute_result"
    }
   ],
   "source": [
    "df['pos_title'].head()"
   ]
  },
  {
   "cell_type": "code",
   "execution_count": 55,
   "metadata": {
    "collapsed": true
   },
   "outputs": [],
   "source": [
    "def topicify(srs):\n",
    "    tags = srs['pos_title']\n",
    "    stems = srs['stemmed_title']\n",
    "    return [stem for (tag, stem) in zip(tags, stems) if tag in ['NN', 'NNS']]"
   ]
  },
  {
   "cell_type": "code",
   "execution_count": 57,
   "metadata": {
    "collapsed": false
   },
   "outputs": [],
   "source": [
    "df['topics'] = df.apply(topicify, axis='columns')"
   ]
  },
  {
   "cell_type": "code",
   "execution_count": 58,
   "metadata": {
    "collapsed": true
   },
   "outputs": [],
   "source": [
    "topic_counts = pd.Series(np.concatenate(df['topics'].values)).value_counts()"
   ]
  },
  {
   "cell_type": "code",
   "execution_count": 59,
   "metadata": {
    "collapsed": false
   },
   "outputs": [
    {
     "data": {
      "text/plain": [
       "china     20593\n",
       "attack    18377\n",
       "world     16669\n",
       "year      16386\n",
       "govern    15959\n",
       "polic     15888\n",
       "state     15882\n",
       "syria     15504\n",
       "presid    15131\n",
       "russia    15035\n",
       "dtype: int64"
      ]
     },
     "execution_count": 59,
     "metadata": {},
     "output_type": "execute_result"
    }
   ],
   "source": [
    "topic_counts[1:].head(10)"
   ]
  },
  {
   "cell_type": "code",
   "execution_count": 60,
   "metadata": {
    "collapsed": false
   },
   "outputs": [
    {
     "data": {
      "text/plain": [
       "<matplotlib.axes._subplots.AxesSubplot at 0x16a53fa10>"
      ]
     },
     "execution_count": 60,
     "metadata": {},
     "output_type": "execute_result"
    },
    {
     "data": {
      "image/png": "[encoded data removed]",
      "text/plain": [
       "<matplotlib.figure.Figure at 0x16a52b110>"
      ]
     },
     "metadata": {},
     "output_type": "display_data"
    }
   ],
   "source": [
    "topic_counts[1:].head(20).plot(kind='bar')\n"
   ]
  },
  {
   "cell_type": "code",
   "execution_count": null,
   "metadata": {
    "collapsed": true
   },
   "outputs": [],
   "source": []
  }
 ],
 "metadata": {
  "kernelspec": {
   "display_name": "Python 2",
   "language": "python",
   "name": "python2"
  },
  "language_info": {
   "codemirror_mode": {
    "name": "ipython",
    "version": 2
   },
   "file_extension": ".py",
   "mimetype": "text/x-python",
   "name": "python",
   "nbconvert_exporter": "python",
   "pygments_lexer": "ipython2",
   "version": "2.7.12"
  }
 },
 "nbformat": 4,
 "nbformat_minor": 0
}
